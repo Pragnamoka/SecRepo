{
 "cells": [
  {
   "cell_type": "markdown",
   "id": "716b07fc-c1a0-47c9-acfe-f2edff9b2ac0",
   "metadata": {},
   "source": [
    "# Data Science Tools and Ecosystem"
   ]
  },
  {
   "cell_type": "markdown",
   "id": "42fd3333-5eca-4795-947f-d47a7e65acbb",
   "metadata": {},
   "source": [
    "## In this notebook, Data Science Tools and Ecosystem are summarized."
   ]
  },
  {
   "cell_type": "markdown",
   "id": "c6c2eb45-d890-4c01-add5-cc46d697e101",
   "metadata": {},
   "source": [
    "#### Some of the popular languages that Data Scientists use are:"
   ]
  },
  {
   "cell_type": "markdown",
   "id": "d32c0e5f-c081-4eb3-9216-9baefb9cdebc",
   "metadata": {},
   "source": [
    "1. Python\n",
    "2. Julia\n",
    "3. R\n",
    "4. Scala"
   ]
  },
  {
   "cell_type": "markdown",
   "id": "53c72c40-8562-47dd-b01e-6f700bd10eb7",
   "metadata": {},
   "source": [
    "#### Some of the commonly used libraries used by Data Scientists include:"
   ]
  },
  {
   "cell_type": "markdown",
   "id": "b7a4998e-8ced-4176-9107-e14598683599",
   "metadata": {},
   "source": [
    "1. Numpy\n",
    "2. Matplotlib\n",
    "3. SciPy\n",
    "4. Scikit-learn"
   ]
  },
  {
   "cell_type": "markdown",
   "id": "7a5f31d5-080a-461e-a65b-c7fa6b5e17ec",
   "metadata": {},
   "source": [
    "#### Data Science Tools"
   ]
  },
  {
   "cell_type": "markdown",
   "id": "1e38b190-abb3-4f5a-86eb-d7c70a5c25a1",
   "metadata": {},
   "source": [
    "| Data Science Tools |\n",
    "|--------------------|\n",
    "  Jupyter Notebooks\n",
    "  Tableau \n",
    "  RStudio\n",
    "  PowerBI"
   ]
  },
  {
   "cell_type": "markdown",
   "id": "fd1ec7b7-c0c6-4610-84c0-e0dd085691e7",
   "metadata": {},
   "source": [
    "### Below are a few examples of evaluating arithmetic expressions in Python"
   ]
  },
  {
   "cell_type": "code",
   "execution_count": 2,
   "id": "c3864398-49da-49c3-a79e-7a249bb14409",
   "metadata": {
    "tags": []
   },
   "outputs": [
    {
     "data": {
      "text/plain": [
       "17"
      ]
     },
     "execution_count": 2,
     "metadata": {},
     "output_type": "execute_result"
    }
   ],
   "source": [
    "# This a simple arithmetic expression to mutiply then add integers.\n",
    "(3*4)+5"
   ]
  },
  {
   "cell_type": "code",
   "execution_count": 3,
   "id": "6261d4d9-5558-4acf-bded-608a733fcdb4",
   "metadata": {},
   "outputs": [
    {
     "data": {
      "text/plain": [
       "3.3333333333333335"
      ]
     },
     "execution_count": 3,
     "metadata": {},
     "output_type": "execute_result"
    }
   ],
   "source": [
    "# This will convert 200 minutes to hours by diving by 60\n",
    "200/60"
   ]
  },
  {
   "cell_type": "markdown",
   "id": "6e2aacff-03ea-4a6d-ab9d-ae67821ed7ab",
   "metadata": {},
   "source": [
    "__Objectives:__"
   ]
  },
  {
   "cell_type": "markdown",
   "id": "5d7fea43-b9da-4735-b432-9c405dfedde4",
   "metadata": {},
   "source": [
    "* List popular languages for Data Science\n",
    "* Data Science tools\n",
    "* Creation of Jupyter Notebook\n",
    "* Working on markdown and code cells\n",
    "* Adding comments\n",
    "* Creating tables"
   ]
  },
  {
   "cell_type": "markdown",
   "id": "11e6362a-c617-424b-bb9f-fc2634c5f8b9",
   "metadata": {},
   "source": [
    "## Author"
   ]
  },
  {
   "cell_type": "markdown",
   "id": "e14835a0-a081-4f68-9ebd-0808ebfef08d",
   "metadata": {
    "tags": []
   },
   "source": [
    "pragna"
   ]
  },
  {
   "cell_type": "code",
   "execution_count": null,
   "id": "b90ce4b4-8445-4183-943b-9426ea37c5bd",
   "metadata": {},
   "outputs": [],
   "source": []
  }
 ],
 "metadata": {
  "kernelspec": {
   "display_name": "Python",
   "language": "python",
   "name": "conda-env-python-py"
  },
  "language_info": {
   "codemirror_mode": {
    "name": "ipython",
    "version": 3
   },
   "file_extension": ".py",
   "mimetype": "text/x-python",
   "name": "python",
   "nbconvert_exporter": "python",
   "pygments_lexer": "ipython3",
   "version": "3.7.12"
  }
 },
 "nbformat": 4,
 "nbformat_minor": 5
}
